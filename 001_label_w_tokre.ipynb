{
 "cells": [
  {
   "cell_type": "code",
   "execution_count": 4,
   "metadata": {},
   "outputs": [
    {
     "name": "stdout",
     "output_type": "stream",
     "text": [
      "Removing hook:  Linear cache_inp_and_break_hook\n",
      "Retrieved SAE: gemma-2-2b/att/layer_2/width_16k/average_l0_43\n"
     ]
    },
    {
     "name": "stderr",
     "output_type": "stream",
     "text": [
      "  8%|▊         | 8/100 [00:18<03:32,  2.31s/it]"
     ]
    }
   ],
   "source": [
    "import os\n",
    "os.environ[\"TOKENIZERS_PARALLELISM\"] = \"false\"\n",
    "\n",
    "from utils import get_acts, see_acts, tokenizer\n",
    "\n",
    "acts, toks = get_acts(layer=2, l0=30, sae_type='att', num_docs=10000, batch_size=100)\n",
    "feat_acts = acts[10].float()\n"
   ]
  },
  {
   "cell_type": "code",
   "execution_count": 2,
   "metadata": {},
   "outputs": [
    {
     "name": "stderr",
     "output_type": "stream",
     "text": [
      "2024-08-24 10:19:46,930\tINFO worker.py:1772 -- Started a local Ray instance. View the dashboard at \u001b[1m\u001b[32mhttp://127.0.0.1:8266 \u001b[39m\u001b[22m\n"
     ]
    },
    {
     "name": "stdout",
     "output_type": "stream",
     "text": [
      "getting matches\n"
     ]
    },
    {
     "name": "stderr",
     "output_type": "stream",
     "text": [
      "collecting matches: 100%|██████████| 194/194 [00:00<00:00, 1695.36it/s]\n"
     ]
    },
    {
     "name": "stdout",
     "output_type": "stream",
     "text": [
      "training\n"
     ]
    },
    {
     "name": "stderr",
     "output_type": "stream",
     "text": [
      "194it [00:00, 8890.12it/s]\n"
     ]
    },
    {
     "name": "stderr",
     "output_type": "stream",
     "text": [
      "\u001b[36m(pid=29908)\u001b[0m Calling ray.init() again after it has already been called.\n",
      "\u001b[36m(ParallelModule pid=29908)\u001b[0m /Users/noanabeshima/.miniconda/envs/tokre/lib/python3.12/site-packages/torch/storage.py:414: FutureWarning: You are using `torch.load` with `weights_only=False` (the current default value), which uses the default pickle module implicitly. It is possible to construct malicious pickle data which will execute arbitrary code during unpickling (See https://github.com/pytorch/pytorch/blob/main/SECURITY.md#untrusted-models for more details). In a future release, the default value for `weights_only` will be flipped to `True`. This limits the functions that could be executed during unpickling. Arbitrary objects will no longer be allowed to be loaded via this mode unless they are explicitly allowlisted by the user via `torch.serialization.add_safe_globals`. We recommend you start setting `weights_only=True` for any use case where you don't have full control of the loaded file. Please open an issue on GitHub for any issues related to this experimental feature.\n",
      "\u001b[36m(ParallelModule pid=29908)\u001b[0m   return torch.load(io.BytesIO(b))\n"
     ]
    }
   ],
   "source": [
    "from noa_tools import reload_module\n",
    "reload_module('tokre')\n",
    "from tokre import SynthFeat\n",
    "import tokre\n",
    "\n",
    "tokre.setup(tokenizer=tokenizer, workspace='workspace')\n",
    "\n",
    "synth = SynthFeat('(4| four| Four)')\n",
    "\n",
    "synth.train(toks=toks, acts=feat_acts, parallel=False)\n"
   ]
  },
  {
   "cell_type": "code",
   "execution_count": 3,
   "metadata": {},
   "outputs": [
    {
     "data": {
      "text/plain": [
       "SynthFeat(\n",
       "  (module): OrGroup(\n",
       "    (branches): ModuleList(\n",
       "      (0): Toks(['4'])\n",
       "      (1): Toks([' four'])\n",
       "      (2): Toks([' Four'])\n",
       "    )\n",
       "    (which_branch): Embed(3,)\n",
       "    (mixer): Mixer(2, bilinear=False, linear=True)\n",
       "  )\n",
       ")"
      ]
     },
     "execution_count": 3,
     "metadata": {},
     "output_type": "execute_result"
    }
   ],
   "source": [
    "synth"
   ]
  }
 ],
 "metadata": {
  "kernelspec": {
   "display_name": "tokre",
   "language": "python",
   "name": "python3"
  },
  "language_info": {
   "codemirror_mode": {
    "name": "ipython",
    "version": 3
   },
   "file_extension": ".py",
   "mimetype": "text/x-python",
   "name": "python",
   "nbconvert_exporter": "python",
   "pygments_lexer": "ipython3",
   "version": "3.12.3"
  }
 },
 "nbformat": 4,
 "nbformat_minor": 2
}
