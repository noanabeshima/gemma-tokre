{
 "cells": [
  {
   "cell_type": "code",
   "execution_count": 1,
   "metadata": {},
   "outputs": [
    {
     "data": {
      "application/vnd.jupyter.widget-view+json": {
       "model_id": "9a877b6eb51740e39733e0ae2f1de8b5",
       "version_major": 2,
       "version_minor": 0
      },
      "text/plain": [
       "Resolving data files:   0%|          | 0/1630 [00:00<?, ?it/s]"
      ]
     },
     "metadata": {},
     "output_type": "display_data"
    },
    {
     "data": {
      "application/vnd.jupyter.widget-view+json": {
       "model_id": "7ad97d089c554caa859032426069c85d",
       "version_major": 2,
       "version_minor": 0
      },
      "text/plain": [
       "Loading dataset shards:   0%|          | 0/98 [00:00<?, ?it/s]"
      ]
     },
     "metadata": {},
     "output_type": "display_data"
    },
    {
     "data": {
      "application/vnd.jupyter.widget-view+json": {
       "model_id": "7fe93f69ea08409c85ee46ce57e34227",
       "version_major": 2,
       "version_minor": 0
      },
      "text/plain": [
       "model.safetensors.index.json:   0%|          | 0.00/24.2k [00:00<?, ?B/s]"
      ]
     },
     "metadata": {},
     "output_type": "display_data"
    },
    {
     "data": {
      "application/vnd.jupyter.widget-view+json": {
       "model_id": "88742c96a67840f8a07bd9dc9c0692fe",
       "version_major": 2,
       "version_minor": 0
      },
      "text/plain": [
       "Downloading shards:   0%|          | 0/3 [00:00<?, ?it/s]"
      ]
     },
     "metadata": {},
     "output_type": "display_data"
    },
    {
     "data": {
      "application/vnd.jupyter.widget-view+json": {
       "model_id": "21f6bd29fb7e46e89950e7e610700970",
       "version_major": 2,
       "version_minor": 0
      },
      "text/plain": [
       "model-00001-of-00003.safetensors:   0%|          | 0.00/4.99G [00:00<?, ?B/s]"
      ]
     },
     "metadata": {},
     "output_type": "display_data"
    },
    {
     "data": {
      "application/vnd.jupyter.widget-view+json": {
       "model_id": "fafafe31db984b2cae3340da79479e36",
       "version_major": 2,
       "version_minor": 0
      },
      "text/plain": [
       "model-00002-of-00003.safetensors:   0%|          | 0.00/4.98G [00:00<?, ?B/s]"
      ]
     },
     "metadata": {},
     "output_type": "display_data"
    },
    {
     "data": {
      "application/vnd.jupyter.widget-view+json": {
       "model_id": "30277f98db424c028cfdd51a78ad8912",
       "version_major": 2,
       "version_minor": 0
      },
      "text/plain": [
       "model-00003-of-00003.safetensors:   0%|          | 0.00/481M [00:00<?, ?B/s]"
      ]
     },
     "metadata": {},
     "output_type": "display_data"
    },
    {
     "data": {
      "application/vnd.jupyter.widget-view+json": {
       "model_id": "505a5113d0ef4addafdc12c5441a6b74",
       "version_major": 2,
       "version_minor": 0
      },
      "text/plain": [
       "Loading checkpoint shards:   0%|          | 0/3 [00:00<?, ?it/s]"
      ]
     },
     "metadata": {},
     "output_type": "display_data"
    },
    {
     "data": {
      "application/vnd.jupyter.widget-view+json": {
       "model_id": "095566313df24252ad8d7af5bed392e6",
       "version_major": 2,
       "version_minor": 0
      },
      "text/plain": [
       "generation_config.json:   0%|          | 0.00/168 [00:00<?, ?B/s]"
      ]
     },
     "metadata": {},
     "output_type": "display_data"
    }
   ],
   "source": [
    "from transformers import AutoTokenizer, AutoModelForCausalLM\n",
    "import torch\n",
    "from utils import tokenizer, lm, register_sae\n"
   ]
  },
  {
   "cell_type": "code",
   "execution_count": 2,
   "metadata": {},
   "outputs": [
    {
     "data": {
      "application/vnd.jupyter.widget-view+json": {
       "model_id": "eedd3994026641b1b00a2ab68d48b4bd",
       "version_major": 2,
       "version_minor": 0
      },
      "text/plain": [
       "Resolving data files:   0%|          | 0/1630 [00:00<?, ?it/s]"
      ]
     },
     "metadata": {},
     "output_type": "display_data"
    },
    {
     "data": {
      "application/vnd.jupyter.widget-view+json": {
       "model_id": "df12e6bb349d4e41b064620c3ea0884b",
       "version_major": 2,
       "version_minor": 0
      },
      "text/plain": [
       "Loading dataset shards:   0%|          | 0/98 [00:00<?, ?it/s]"
      ]
     },
     "metadata": {},
     "output_type": "display_data"
    }
   ],
   "source": [
    "from datasets import load_dataset\n",
    "\n",
    "ds = load_dataset(\"HuggingFaceFW/fineweb-edu\", \"sample-10BT\")"
   ]
  },
  {
   "cell_type": "code",
   "execution_count": null,
   "metadata": {},
   "outputs": [],
   "source": [
    "import numpy as np\n",
    "\n",
    "tok_strs = np.array([tokenizer.decode([tok_id]).replace(' ', '·').replace('\\n', '⤶') for tok_id in range(256000)])\n",
    "\n"
   ]
  },
  {
   "cell_type": "code",
   "execution_count": 3,
   "metadata": {},
   "outputs": [],
   "source": [
    "from noa_tools import reload_module\n",
    "reload_module('noa_tools')\n",
    "from noa_tools import register_hook, remove_hooks, reload_module"
   ]
  },
  {
   "cell_type": "code",
   "execution_count": null,
   "metadata": {},
   "outputs": [],
   "source": [
    "# LAYER = 0\n",
    "# L0=43\n",
    "\n",
    "# sae = load_gemma_sae('att', filename=f'layer_{LAYER}/width_65k/average_l0_{L0}').to(torch.bfloat16).cuda()\n",
    "\n",
    "# sae.W_dec.shape"
   ]
  },
  {
   "cell_type": "code",
   "execution_count": null,
   "metadata": {},
   "outputs": [],
   "source": [
    "from torch.utils.data import DataLoader\n",
    "from tqdm import tqdm\n",
    "reload_module('utils')\n",
    "from utils import CustomBreakError, register_sae\n",
    "from noa_tools import clear_cache\n",
    "\n",
    "NUM_DOCS = 10000\n",
    "BATCH_SIZE = 300\n",
    "\n",
    "num_batches= NUM_DOCS // BATCH_SIZE\n",
    "dataloader = DataLoader(ds['train'], batch_size=BATCH_SIZE)\n",
    "\n",
    "clear_cache(lm)\n",
    "module, sae = register_sae(lm, layer=2, l0=100, type='att', width='16k')\n",
    "\n",
    "\n",
    "all_acts = []\n",
    "all_toks = []\n",
    "for i, batch in tqdm(enumerate(dataloader), total=num_batches):\n",
    "    out = tokenizer(batch['text'], return_tensors='pt', padding=True, truncation=True, max_length=128)\n",
    "    tok_ids, attn_mask = out['input_ids'], out['attention_mask']\n",
    "    tok_ids = tok_ids[attn_mask[:,0].bool()].cuda()\n",
    "    \n",
    "    try:\n",
    "        lm.forward(tok_ids)\n",
    "    except CustomBreakError:\n",
    "        pass\n",
    "    except Exception as e:\n",
    "        print(f\"Unexpected error: {e}\")\n",
    "    \n",
    "    sae_inp = module.cache['sae_inp']\n",
    "    \n",
    "    acts = sae.encode(sae_inp, indices=range(0,200))\n",
    "\n",
    "    all_acts.append(acts)\n",
    "    all_toks.append(tok_ids)\n",
    "\n",
    "    if len(all_acts) > num_batches:\n",
    "        break\n",
    "\n",
    "acts = torch.cat(all_acts, dim=0).cpu()\n",
    "toks = tok_strs[np.concatenate([toks.cpu().numpy() for toks in all_toks], axis=0)]\n",
    "\n",
    "from einops import rearrange\n",
    "acts = acts/(rearrange(acts, 'b s a -> ( b s ) a').max(dim=0).values[None,None]+1e-10)\n"
   ]
  },
  {
   "cell_type": "code",
   "execution_count": null,
   "metadata": {},
   "outputs": [],
   "source": [
    "from torch.utils.data import DataLoader\n",
    "from tqdm import tqdm\n",
    "from utils import CustomBreakError, register_sae\n",
    "from noa_tools import clear_cache\n",
    "from einops import rearrange\n",
    "\n",
    "def get_acts(lm, layer, l0, sae_type, width='16k', batch_size=200, indices=range(0,100), num_docs=10_000):\n",
    "    \n",
    "\n",
    "    num_batches= num_docs // batch_size\n",
    "    dataloader = DataLoader(ds['train'], batch_size=batch_size)\n",
    "\n",
    "    clear_cache(lm)\n",
    "    module, sae = register_sae(lm, layer=layer, l0=l0, type=sae_type, width='16k')\n",
    "\n",
    "\n",
    "    all_acts = []\n",
    "    all_toks = []\n",
    "    for i, batch in tqdm(enumerate(dataloader), total=num_batches):\n",
    "        out = tokenizer(batch['text'], return_tensors='pt', padding=True, truncation=True, max_length=128)\n",
    "        tok_ids, attn_mask = out['input_ids'], out['attention_mask']\n",
    "        tok_ids = tok_ids[attn_mask[:,0].bool()].cuda()\n",
    "        \n",
    "        try:\n",
    "            lm.forward(tok_ids)\n",
    "        except CustomBreakError:\n",
    "            pass\n",
    "        except Exception as e:\n",
    "            print(f\"Unexpected error: {e}\")\n",
    "        \n",
    "        sae_inp = module.cache['sae_inp']\n",
    "        \n",
    "        acts = sae.encode(sae_inp, indices=range(0,200))\n",
    "\n",
    "        all_acts.append(acts)\n",
    "        all_toks.append(tok_ids)\n",
    "\n",
    "        if len(all_acts) > num_batches:\n",
    "            break\n",
    "\n",
    "    acts = torch.cat(all_acts, dim=0).cpu()\n",
    "    toks = tok_strs[np.concatenate([toks.cpu().numpy() for toks in all_toks], axis=0)]\n",
    "\n",
    "    \n",
    "    acts = acts/(rearrange(acts, 'b s a -> ( b s ) a').max(dim=0).values[None,None]+1e-10)\n",
    "    \n",
    "    return acts, toks\n"
   ]
  },
  {
   "cell_type": "code",
   "execution_count": null,
   "metadata": {},
   "outputs": [],
   "source": [
    "import pysvelte\n",
    "\n",
    "N_DOCS = -1\n",
    "\n",
    "FEAT_START = 100\n",
    "N_FEATS = 20\n",
    "\n",
    "for FEAT in range(FEAT_START, FEAT_START + N_FEATS):\n",
    "    print(f'Feat {FEAT}')\n",
    "\n",
    "    feat_acts = acts[:N_DOCS,:,FEAT]\n",
    "    feat_toks = toks[:N_DOCS]\n",
    "    feat_mask = feat_acts.max(dim=-1).values > 0\n",
    "    docs = feat_toks[feat_mask].tolist()\n",
    "    feat_acts = feat_acts[feat_mask].cpu().tolist()\n",
    "    pysvelte.WeightedDocs(docs=docs, acts=feat_acts, start=0.8, k=4).show()\n",
    "\n"
   ]
  },
  {
   "cell_type": "code",
   "execution_count": null,
   "metadata": {},
   "outputs": [],
   "source": [
    "# model.generate(input_ids=tok_ids, attention_mask=attn_mask, max_new_tokens=128)"
   ]
  },
  {
   "cell_type": "code",
   "execution_count": null,
   "metadata": {},
   "outputs": [],
   "source": [
    "prompt = 'Once upon a time there was a giant'\n",
    "\n",
    "inputs = tokenizer.encode(prompt, return_tensors=\"pt\", add_special_tokens=True).to(\"cuda\")\n",
    "\n",
    "outputs = model.generate(input_ids=inputs, max_new_tokens=50, temperature=1.0, do_sample=True)"
   ]
  },
  {
   "cell_type": "code",
   "execution_count": null,
   "metadata": {},
   "outputs": [],
   "source": [
    "[tokenizer.decode([tok_id]) for tok_id in outputs[0]]"
   ]
  },
  {
   "cell_type": "code",
   "execution_count": null,
   "metadata": {},
   "outputs": [],
   "source": [
    "from transformers import GenerationConfig\n",
    "\n",
    "GenerationConfig.from_pretrained(\"google/gemma-2b\")"
   ]
  }
 ],
 "metadata": {
  "kernelspec": {
   "display_name": "tokre",
   "language": "python",
   "name": "python3"
  },
  "language_info": {
   "codemirror_mode": {
    "name": "ipython",
    "version": 3
   },
   "file_extension": ".py",
   "mimetype": "text/x-python",
   "name": "python",
   "nbconvert_exporter": "python",
   "pygments_lexer": "ipython3",
   "version": "3.12.3"
  }
 },
 "nbformat": 4,
 "nbformat_minor": 2
}
