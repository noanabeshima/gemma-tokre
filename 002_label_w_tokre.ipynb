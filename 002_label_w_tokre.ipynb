{
 "cells": [
  {
   "cell_type": "code",
   "execution_count": 1,
   "metadata": {},
   "outputs": [
    {
     "data": {
      "application/vnd.jupyter.widget-view+json": {
       "model_id": "4ab2e73adc7848538e0de900b9f332f9",
       "version_major": 2,
       "version_minor": 0
      },
      "text/plain": [
       "Resolving data files:   0%|          | 0/1630 [00:00<?, ?it/s]"
      ]
     },
     "metadata": {},
     "output_type": "display_data"
    },
    {
     "data": {
      "application/vnd.jupyter.widget-view+json": {
       "model_id": "acf246594373448e89e81423a591391e",
       "version_major": 2,
       "version_minor": 0
      },
      "text/plain": [
       "Loading dataset shards:   0%|          | 0/98 [00:00<?, ?it/s]"
      ]
     },
     "metadata": {},
     "output_type": "display_data"
    },
    {
     "data": {
      "application/vnd.jupyter.widget-view+json": {
       "model_id": "fa949a5487f744e6a6f1bf56b371e28e",
       "version_major": 2,
       "version_minor": 0
      },
      "text/plain": [
       "Loading checkpoint shards:   0%|          | 0/3 [00:00<?, ?it/s]"
      ]
     },
     "metadata": {},
     "output_type": "display_data"
    },
    {
     "name": "stdout",
     "output_type": "stream",
     "text": [
      "Retrieved SAE: gemma-2-2b/att/layer_2/width_16k/average_l0_43\n"
     ]
    },
    {
     "name": "stderr",
     "output_type": "stream",
     "text": [
      "100%|██████████| 1/1 [00:00<00:00,  3.09it/s]\n"
     ]
    }
   ],
   "source": [
    "from utils import get_acts, see_acts\n",
    "\n",
    "\n",
    "acts, toks = get_acts(layer=2, l0=30, sae_type='att', num_docs=100, batch_size=100)"
   ]
  },
  {
   "cell_type": "code",
   "execution_count": 2,
   "metadata": {},
   "outputs": [],
   "source": [
    "feat_acts = acts[10].float()\n",
    "# see_acts(feat_acts, toks)"
   ]
  },
  {
   "cell_type": "code",
   "execution_count": 5,
   "metadata": {},
   "outputs": [
    {
     "data": {
      "text/plain": [
       "array([['<bos>', 'The', ' Independent', ..., ' at', ' Lady', ' Russel'],\n",
       "       ['<bos>', 'Taking', ' Play', ..., ' Library', \"'\", 's'],\n",
       "       ['<bos>', 'How', ' do', ..., ' seat', ',', ' swimming'],\n",
       "       ...,\n",
       "       ['<bos>', 'Research', ' and', ..., ' of', ' many', ' of'],\n",
       "       ['<bos>', 'The', ' issue', ..., ' to', ' be', ' in'],\n",
       "       ['<bos>', 'HISTOR', 'ICAL', ..., '3', '-', 'School']], dtype='<U31')"
      ]
     },
     "execution_count": 5,
     "metadata": {},
     "output_type": "execute_result"
    }
   ],
   "source": [
    "toks"
   ]
  },
  {
   "cell_type": "code",
   "execution_count": 9,
   "metadata": {},
   "outputs": [
    {
     "name": "stderr",
     "output_type": "stream",
     "text": [
      "2024-08-24 09:11:36,033\tINFO worker.py:1614 -- Calling ray.init() again after it has already been called.\n"
     ]
    },
    {
     "name": "stdout",
     "output_type": "stream",
     "text": [
      "getting matches\n"
     ]
    }
   ],
   "source": [
    "from noa_tools import reload_module\n",
    "reload_module('tokre')\n",
    "from tokre import SynthFeat\n",
    "from utils import tokenizer\n",
    "import tokre\n",
    "\n",
    "tokre.setup(tokenizer=tokenizer, workspace='workspace')\n",
    "\n",
    "synth = SynthFeat('(4| four| Four)')\n",
    "\n",
    "synth.train(toks=toks, acts=feat_acts)\n",
    "\n",
    "synth"
   ]
  },
  {
   "cell_type": "code",
   "execution_count": null,
   "metadata": {},
   "outputs": [],
   "source": [
    "feat_acts"
   ]
  },
  {
   "cell_type": "code",
   "execution_count": null,
   "metadata": {},
   "outputs": [],
   "source": [
    "toks"
   ]
  },
  {
   "cell_type": "code",
   "execution_count": null,
   "metadata": {},
   "outputs": [],
   "source": [
    "synth.get_acts(' 4 4 four 4')"
   ]
  },
  {
   "cell_type": "code",
   "execution_count": null,
   "metadata": {},
   "outputs": [],
   "source": [
    "# reload_module('tokre')\n",
    "# from tokre import SynthFeat\n",
    "\n",
    "# tokre.setup(tokenizer=tokenizer, workspace='workspace')\n"
   ]
  },
  {
   "cell_type": "code",
   "execution_count": null,
   "metadata": {},
   "outputs": [],
   "source": [
    "tokre.enc('test')"
   ]
  },
  {
   "cell_type": "code",
   "execution_count": null,
   "metadata": {},
   "outputs": [],
   "source": [
    "\n",
    "synth = SynthFeat('''\n",
    "digit = test\n",
    "\n",
    "[digit]\n",
    "''')"
   ]
  },
  {
   "cell_type": "code",
   "execution_count": null,
   "metadata": {},
   "outputs": [],
   "source": [
    "synth.get_acts(tokre.tok_split(' This is a test. This is not a test.'))"
   ]
  }
 ],
 "metadata": {
  "kernelspec": {
   "display_name": "tokre",
   "language": "python",
   "name": "python3"
  },
  "language_info": {
   "codemirror_mode": {
    "name": "ipython",
    "version": 3
   },
   "file_extension": ".py",
   "mimetype": "text/x-python",
   "name": "python",
   "nbconvert_exporter": "python",
   "pygments_lexer": "ipython3",
   "version": "3.11.9"
  }
 },
 "nbformat": 4,
 "nbformat_minor": 2
}
